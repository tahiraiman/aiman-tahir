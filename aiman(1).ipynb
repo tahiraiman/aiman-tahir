{
 "cells": [
  {
   "cell_type": "code",
   "execution_count": 3,
   "id": "7167e2eb-194a-496a-b7bd-f7a2b6ca09c9",
   "metadata": {},
   "outputs": [
    {
     "name": "stdin",
     "output_type": "stream",
     "text": [
      "please enter your name aiman\n",
      "please enter your English marks: 56\n",
      "please enter your Maths marks: 77\n",
      "please enter your Urdu marks: 89\n"
     ]
    },
    {
     "name": "stdout",
     "output_type": "stream",
     "text": [
      "aiman your obtained marks is 222 , your percentage is 74.0and yuour grade is A1\n"
     ]
    }
   ],
   "source": [
    "name=input(\"please enter your name\")\n",
    "eng=int(input(\"please enter your English marks:\"))\n",
    "maths=int(input(\"please enter your Maths marks:\"))\n",
    "urdu=int(input(\"please enter your Urdu marks:\"))\n",
    "\n",
    "obtain = (eng + maths + urdu )\n",
    "percent = obtain / 300* 100\n",
    "\n",
    "if percent > 50 and percent < 100 :\n",
    "    grade = \"A1\"\n",
    "\n",
    "\n",
    "elif percent > 40 and percent < 50 :\n",
    "    grade = \"Pass\"\n",
    "\n",
    "elif percent >0 and percent < 40 :\n",
    "    grade = \"Fail\"\n",
    "\n",
    "else:\n",
    "    grade = \"value error\"\n",
    "\n",
    "\n",
    "print(f\"{name} your obtained marks is {obtain} , your percentage is {percent}and yuour grade is {grade}\")\n",
    "\n",
    "\n",
    "\n",
    "\n",
    "\n",
    "\n",
    "\n",
    "\n"
   ]
  },
  {
   "cell_type": "code",
   "execution_count": 21,
   "id": "30c7f6ba-f8cc-43ae-93c5-19c4e4663bd5",
   "metadata": {},
   "outputs": [
    {
     "name": "stdin",
     "output_type": "stream",
     "text": [
      "which number of table do you want : 60\n",
      "how many times of table do you want: 10\n"
     ]
    },
    {
     "name": "stdout",
     "output_type": "stream",
     "text": [
      "60 * 1 = 60\n",
      "60 * 2 = 120\n",
      "60 * 3 = 180\n",
      "60 * 4 = 240\n",
      "60 * 5 = 300\n",
      "60 * 6 = 360\n",
      "60 * 7 = 420\n",
      "60 * 8 = 480\n",
      "60 * 9 = 540\n",
      "60 * 10 = 600\n",
      " your table is finished\n"
     ]
    }
   ],
   "source": [
    "tab=int(input(\"which number of table do you want :\"))\n",
    "num=int(input(\"how many times of table do you want:\"))\n",
    "for i in range (1,11):\n",
    "    print(f\"{tab} * {i} = {tab * i}\")\n",
    "else :\n",
    "    print(\" your table is finished\")"
   ]
  },
  {
   "cell_type": "code",
   "execution_count": 25,
   "id": "a5bfed7c-3f6b-4924-80a1-a3e9c5a71dc1",
   "metadata": {},
   "outputs": [
    {
     "name": "stdin",
     "output_type": "stream",
     "text": [
      "which number of table do you want : 2\n",
      "how many times of table do you want : 10\n"
     ]
    },
    {
     "name": "stdout",
     "output_type": "stream",
     "text": [
      "2 * 1 = 2\n",
      "2 * 3 = 6\n",
      "2 * 5 = 10\n",
      "2 * 7 = 14\n",
      "2 * 9 = 18\n"
     ]
    }
   ],
   "source": [
    "# for even number\n",
    "tab=int(input(\"which number of table do you want :\"))\n",
    "num=int(input(\"how many times of table do you want :\"))\n",
    "\"2*1=2\"\n",
    "for i in range (1,num+1,2):\n",
    "    print(f\"{tab} * {i} = {tab * i }\")\n",
    "\n",
    "    "
   ]
  },
  {
   "cell_type": "code",
   "execution_count": null,
   "id": "7b75610f-9d2b-430a-9255-3d6344487ad0",
   "metadata": {},
   "outputs": [],
   "source": []
  }
 ],
 "metadata": {
  "kernelspec": {
   "display_name": "Python 3 (ipykernel)",
   "language": "python",
   "name": "python3"
  },
  "language_info": {
   "codemirror_mode": {
    "name": "ipython",
    "version": 3
   },
   "file_extension": ".py",
   "mimetype": "text/x-python",
   "name": "python",
   "nbconvert_exporter": "python",
   "pygments_lexer": "ipython3",
   "version": "3.12.4"
  }
 },
 "nbformat": 4,
 "nbformat_minor": 5
}
